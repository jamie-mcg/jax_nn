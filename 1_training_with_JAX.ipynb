{
 "cells": [
  {
   "cell_type": "code",
   "execution_count": 1,
   "metadata": {},
   "outputs": [],
   "source": [
    "import jax\n",
    "import jax.numpy as jnp # type: ignore\n",
    "import numpy as np # type: ignore\n",
    "\n",
    "from jax import grad, jit, vmap, pmap # type: ignore\n",
    "import matplotlib.pyplot as plt\n"
   ]
  },
  {
   "cell_type": "code",
   "execution_count": 2,
   "metadata": {},
   "outputs": [
    {
     "name": "stdout",
     "output_type": "stream",
     "text": [
      "[9, 5, None] contains 2 leaves ... [9, 5]\n",
      "[3, (2, 8)] contains 3 leaves ... [3, 2, 8]\n",
      "{'p': 78} contains 1 leaves ... [78]\n",
      "{'q': {'r': 5, 's': {'t': 100, 'u': 200}}} contains 3 leaves ... [5, 100, 200]\n",
      "4 contains 1 leaves ... [4]\n"
     ]
    }
   ],
   "source": [
    "simple_pytree = [\n",
    "    [9, 5, None],\n",
    "    [3, (2, 8)],\n",
    "    {\"p\": 78},\n",
    "    {\"q\": {\"r\": 5, \"s\": {\"t\": 100, \"u\": 200}}},\n",
    "    4\n",
    "]\n",
    "\n",
    "for elem in simple_pytree:\n",
    "    leaves = jax.tree_util.tree_leaves(elem)\n",
    "    print(f\"{elem} contains {len(leaves)} leaves ... {leaves}\")"
   ]
  },
  {
   "cell_type": "code",
   "execution_count": 3,
   "metadata": {},
   "outputs": [
    {
     "name": "stdout",
     "output_type": "stream",
     "text": [
      "[[81, 25, None], [9, (4, 64)], {'p': 6084}, {'q': {'r': 25, 's': {'t': 10000, 'u': 40000}}}, 16]\n"
     ]
    }
   ],
   "source": [
    "print(jax.tree_util.tree_map(lambda x: x**2, simple_pytree))"
   ]
  },
  {
   "cell_type": "code",
   "execution_count": 4,
   "metadata": {},
   "outputs": [],
   "source": [
    "# For the above, we can use multiple different pytrees but they must have the same structure in order to be operated together."
   ]
  },
  {
   "cell_type": "code",
   "execution_count": 5,
   "metadata": {},
   "outputs": [
    {
     "data": {
      "text/plain": [
       "[{'bias': (128,), 'weight': (1, 128)},\n",
       " {'bias': (128,), 'weight': (128, 128)},\n",
       " {'bias': (1,), 'weight': (128, 1)}]"
      ]
     },
     "execution_count": 5,
     "metadata": {},
     "output_type": "execute_result"
    }
   ],
   "source": [
    "def init_mlp_params(layer_widths):\n",
    "    params = []\n",
    "\n",
    "    for n_in, n_out in zip(layer_widths[:-1], layer_widths[1:]):\n",
    "        params.append(\n",
    "            dict(weight=np.random.normal(size=(n_in, n_out)) * np.sqrt(2 / n_in),\n",
    "                bias=np.ones(shape=(n_out,))\n",
    "            )\n",
    "        )\n",
    "    \n",
    "    return params\n",
    "\n",
    "params = init_mlp_params([1, 128, 128, 1])\n",
    "jax.tree_util.tree_map(lambda x: x.shape, params)"
   ]
  },
  {
   "cell_type": "code",
   "execution_count": 6,
   "metadata": {},
   "outputs": [],
   "source": [
    "def forward(params, x):\n",
    "    *hidden, last = params\n",
    "\n",
    "    for layer in hidden:\n",
    "        x  = jax.nn.relu(jnp.dot(x, layer[\"weight\"]) + layer[\"bias\"])\n",
    "\n",
    "    return jnp.dot(x, last[\"weight\"]) + last[\"bias\"]\n",
    "\n",
    "def loss_fn(params, x, y):\n",
    "    return jnp.mean((forward(params, x) - y) ** 2)\n",
    "\n",
    "lr = 0.0001\n",
    "\n",
    "@jit\n",
    "def update(params, x, y):\n",
    "\n",
    "    grads = jax.grad(loss_fn)(params, x, y)\n",
    "\n",
    "    return jax.tree.map(lambda p, g: p - lr * g, params, grads)"
   ]
  },
  {
   "cell_type": "code",
   "execution_count": 7,
   "metadata": {},
   "outputs": [
    {
     "name": "stderr",
     "output_type": "stream",
     "text": [
      "2024-08-19 21:00:58.369788: W external/xla/xla/service/gpu/nvptx_compiler.cc:836] The NVIDIA driver's CUDA version is 12.1 which is older than the PTX compiler version (12.5.82). Because the driver is older than the PTX compiler version, XLA is disabling parallel compilation, which may slow down compilation. You should update your NVIDIA driver or use the NVIDIA-provided CUDA forward compatibility packages.\n"
     ]
    },
    {
     "data": {
      "text/plain": [
       "<matplotlib.legend.Legend at 0x7f5885a3b1d0>"
      ]
     },
     "execution_count": 7,
     "metadata": {},
     "output_type": "execute_result"
    },
    {
     "data": {
      "image/png": "[encoded data removed]",
      "text/plain": [
       "<Figure size 640x480 with 1 Axes>"
      ]
     },
     "metadata": {},
     "output_type": "display_data"
    }
   ],
   "source": [
    "xs = np.random.normal(size=(128, 1))\n",
    "ys = xs ** 2\n",
    "\n",
    "num_epochs = 5000\n",
    "for _ in range(num_epochs):\n",
    "    params = update(params, xs, ys)\n",
    "\n",
    "plt.scatter(xs, ys, label=\"Data\")\n",
    "plt.scatter(xs, forward(params, xs), label=\"Model predictions\")\n",
    "plt.legend()"
   ]
  },
  {
   "cell_type": "code",
   "execution_count": 8,
   "metadata": {},
   "outputs": [
    {
     "name": "stdout",
     "output_type": "stream",
     "text": [
      "[<__main__.ExampleObject object at 0x7f59601c6de0>, <__main__.ExampleObject object at 0x7f5960145580>] contains 2 leaves ... [<__main__.ExampleObject object at 0x7f59601c6de0>, <__main__.ExampleObject object at 0x7f5960145580>]\n"
     ]
    }
   ],
   "source": [
    "class ExampleObject:\n",
    "    def __init__(self, name, x, y, z):\n",
    "        self.name = name\n",
    "        self.x = x\n",
    "        self.y = y\n",
    "        self.z = z\n",
    "\n",
    "custom_pytree = [ExampleObject(\"Jamie\", 2, 1, 3), ExampleObject(\"McGowan\", 1, 9, 6)]\n",
    "\n",
    "leaves = jax.tree_util.tree_leaves(custom_pytree)\n",
    "print(f\"{custom_pytree} contains {len(leaves)} leaves ... {leaves}\")"
   ]
  },
  {
   "cell_type": "code",
   "execution_count": 9,
   "metadata": {},
   "outputs": [],
   "source": [
    "def flatten_ExampleObject(obj):\n",
    "    flat_content = [obj.x, obj.y, obj.z]\n",
    "\n",
    "    aux_data = obj.name\n",
    "\n",
    "    return flat_content, aux_data\n",
    "\n",
    "\n",
    "def unflatten_ExampleObject(aux_data, flat_content):\n",
    "    return ExampleObject(aux_data, *flat_content)\n",
    "\n",
    "\n",
    "jax.tree_util.register_pytree_node(ExampleObject, flatten_ExampleObject, unflatten_ExampleObject)"
   ]
  },
  {
   "cell_type": "code",
   "execution_count": 10,
   "metadata": {},
   "outputs": [
    {
     "name": "stdout",
     "output_type": "stream",
     "text": [
      "[<__main__.ExampleObject object at 0x7f59601c6de0>, <__main__.ExampleObject object at 0x7f5960145580>] contains 6 leaves ... [2, 1, 3, 1, 9, 6]\n"
     ]
    }
   ],
   "source": [
    "leaves = jax.tree_util.tree_leaves(custom_pytree)\n",
    "print(f\"{custom_pytree} contains {len(leaves)} leaves ... {leaves}\")"
   ]
  },
  {
   "cell_type": "code",
   "execution_count": 11,
   "metadata": {},
   "outputs": [
    {
     "data": {
      "text/plain": [
       "[3, 2, 4, 2, 10, 7]"
      ]
     },
     "execution_count": 11,
     "metadata": {},
     "output_type": "execute_result"
    }
   ],
   "source": [
    "result = jax.tree_util.tree_map(lambda x: x + 1, custom_pytree)\n",
    "jax.tree_util.tree_leaves(result)"
   ]
  },
  {
   "cell_type": "code",
   "execution_count": 12,
   "metadata": {},
   "outputs": [
    {
     "name": "stdout",
     "output_type": "stream",
     "text": [
      "[Array([[0., 0., 0.],\n",
      "       [0., 0., 0.]], dtype=float32), Array([[0., 0., 0., 0.],\n",
      "       [0., 0., 0., 0.],\n",
      "       [0., 0., 0., 0.]], dtype=float32)]\n",
      "[(2, 3), (3, 4)]\n"
     ]
    }
   ],
   "source": [
    "zeros_tree = [jnp.zeros((2, 3)), jnp.zeros((3, 4))]\n",
    "print(zeros_tree)\n",
    "\n",
    "shapes = jax.tree.map(lambda x: x.shape, zeros_tree)\n",
    "print(shapes)"
   ]
  },
  {
   "cell_type": "code",
   "execution_count": 13,
   "metadata": {},
   "outputs": [
    {
     "name": "stdout",
     "output_type": "stream",
     "text": [
      "[(Array([1., 1.], dtype=float32), Array([1., 1., 1.], dtype=float32)), (Array([1., 1., 1.], dtype=float32), Array([1., 1., 1., 1.], dtype=float32))]\n"
     ]
    }
   ],
   "source": [
    "ones_tree = jax.tree.map(jnp.ones, shapes)\n",
    "\n",
    "print(ones_tree)"
   ]
  },
  {
   "cell_type": "code",
   "execution_count": 14,
   "metadata": {},
   "outputs": [
    {
     "data": {
      "text/plain": [
       "[2, 3, 3, 4]"
      ]
     },
     "execution_count": 14,
     "metadata": {},
     "output_type": "execute_result"
    }
   ],
   "source": [
    "jax.tree_util.tree_leaves(shapes)"
   ]
  },
  {
   "cell_type": "code",
   "execution_count": 15,
   "metadata": {},
   "outputs": [
    {
     "name": "stdout",
     "output_type": "stream",
     "text": [
      "[Array([[1., 1., 1.],\n",
      "       [1., 1., 1.]], dtype=float32), Array([[1., 1., 1., 1.],\n",
      "       [1., 1., 1., 1.],\n",
      "       [1., 1., 1., 1.]], dtype=float32)]\n"
     ]
    }
   ],
   "source": [
    "new_shapes = jax.tree.map(lambda x: jnp.array(x.shape), zeros_tree)\n",
    "new_ones_tree = jax.tree.map(jnp.ones, new_shapes)\n",
    "\n",
    "print(new_ones_tree)"
   ]
  },
  {
   "cell_type": "code",
   "execution_count": 16,
   "metadata": {},
   "outputs": [
    {
     "data": {
      "text/plain": [
       "[CudaDevice(id=0), CudaDevice(id=1), CudaDevice(id=2), CudaDevice(id=3)]"
      ]
     },
     "execution_count": 16,
     "metadata": {},
     "output_type": "execute_result"
    }
   ],
   "source": [
    "jax.devices()"
   ]
  },
  {
   "cell_type": "code",
   "execution_count": 17,
   "metadata": {},
   "outputs": [
    {
     "name": "stdout",
     "output_type": "stream",
     "text": [
      "Array([13., 23., 33.], dtype=float32)\n"
     ]
    }
   ],
   "source": [
    "x = np.arange(5)\n",
    "w = np.array([2., 3., 5.])\n",
    "\n",
    "def convolve(w, x):\n",
    "    output = []\n",
    "\n",
    "    for i in range(1, len(x) - 1):\n",
    "        output.append(jnp.dot(x[i-1:i+2], w))\n",
    "    \n",
    "    return jnp.array(output)\n",
    "\n",
    "result = convolve(w, x)\n",
    "print(repr(result))"
   ]
  },
  {
   "cell_type": "code",
   "execution_count": 18,
   "metadata": {},
   "outputs": [
    {
     "name": "stdout",
     "output_type": "stream",
     "text": [
      "Number of devices 4\n"
     ]
    }
   ],
   "source": [
    "n_devices = jax.local_device_count()\n",
    "print(f\"Number of devices {n_devices}\")"
   ]
  },
  {
   "cell_type": "code",
   "execution_count": 19,
   "metadata": {},
   "outputs": [
    {
     "name": "stdout",
     "output_type": "stream",
     "text": [
      "(4, 5) (4, 3)\n"
     ]
    }
   ],
   "source": [
    "x_batch = np.arange(n_devices * 5).reshape(n_devices, 5)\n",
    "ws = np.stack([w] * n_devices)\n",
    "\n",
    "print(x_batch.shape, ws.shape)"
   ]
  },
  {
   "cell_type": "code",
   "execution_count": 20,
   "metadata": {},
   "outputs": [
    {
     "name": "stdout",
     "output_type": "stream",
     "text": [
      "[[ 13.  23.  33.]\n",
      " [ 63.  73.  83.]\n",
      " [113. 123. 133.]\n",
      " [163. 173. 183.]]\n"
     ]
    }
   ],
   "source": [
    "vmap_result = jax.vmap(convolve, in_axes=(0, 0))(ws, x_batch)\n",
    "print(vmap_result)"
   ]
  },
  {
   "cell_type": "code",
   "execution_count": 21,
   "metadata": {},
   "outputs": [
    {
     "name": "stdout",
     "output_type": "stream",
     "text": [
      "[[ 13.  23.  33.]\n",
      " [ 63.  73.  83.]\n",
      " [113. 123. 133.]\n",
      " [163. 173. 183.]]\n"
     ]
    }
   ],
   "source": [
    "pmap_result = jax.pmap(convolve, in_axes=(0, 0))(ws, x_batch)\n",
    "print(pmap_result)"
   ]
  },
  {
   "cell_type": "code",
   "execution_count": 22,
   "metadata": {},
   "outputs": [
    {
     "name": "stdout",
     "output_type": "stream",
     "text": [
      "[[  89.  158.  227.]\n",
      " [1334. 1553. 1772.]\n",
      " [4079. 4448. 4817.]\n",
      " [8324. 8843. 9362.]]\n"
     ]
    }
   ],
   "source": [
    "double_pmap_result = jax.pmap(convolve)(\n",
    "    jax.pmap(convolve, in_axes=(0, 0))(ws, x_batch), x_batch\n",
    ")\n",
    "print(double_pmap_result)"
   ]
  },
  {
   "cell_type": "code",
   "execution_count": 23,
   "metadata": {},
   "outputs": [
    {
     "name": "stdout",
     "output_type": "stream",
     "text": [
      "[[ 13.  23.  33.]\n",
      " [ 63.  73.  83.]\n",
      " [113. 123. 133.]\n",
      " [163. 173. 183.]]\n"
     ]
    }
   ],
   "source": [
    "pmap_result = jax.pmap(convolve, in_axes=(None, 0))(w, x_batch)\n",
    "print(pmap_result)"
   ]
  },
  {
   "cell_type": "code",
   "execution_count": 24,
   "metadata": {},
   "outputs": [],
   "source": [
    "# Communicating between cores when we accumulate gradients from multiple batches"
   ]
  },
  {
   "cell_type": "code",
   "execution_count": 25,
   "metadata": {},
   "outputs": [
    {
     "name": "stdout",
     "output_type": "stream",
     "text": [
      "True\n"
     ]
    }
   ],
   "source": [
    "def normalized_convolution(w, x):\n",
    "    output = []\n",
    "\n",
    "    for i in range(1, len(x)-1):\n",
    "        output.append(jnp.dot(x[i-1:i+2], w))\n",
    "\n",
    "    output = jnp.array(output)\n",
    "\n",
    "    return output / jax.lax.psum(output, axis_name='batch_dim')\n",
    "\n",
    "res_pmap = jax.pmap(normalized_convolution, axis_name='batch_dim', in_axes=(None, 0))(w, x_batch) # automatically calls jit in the background\n",
    "res_vmap = jax.vmap(normalized_convolution, axis_name=\"batch_dim\", in_axes=(None, 0))(\n",
    "    w, x_batch\n",
    ")\n",
    "\n",
    "print(jnp.allclose(res_pmap, res_vmap))"
   ]
  },
  {
   "cell_type": "code",
   "execution_count": 26,
   "metadata": {},
   "outputs": [
    {
     "data": {
      "text/plain": [
       "<matplotlib.collections.PathCollection at 0x7f587018d130>"
      ]
     },
     "execution_count": 26,
     "metadata": {},
     "output_type": "execute_result"
    },
    {
     "data": {
      "image/png": "[encoded data removed]",
      "text/plain": [
       "<Figure size 640x480 with 1 Axes>"
      ]
     },
     "metadata": {},
     "output_type": "display_data"
    }
   ],
   "source": [
    "true_w, true_b = 2, -1\n",
    "\n",
    "xs = np.random.normal(size=(128, 1))\n",
    "noise = 0.5 * np.random.normal(size=(128, 1))\n",
    "ys = xs * true_w + true_b + noise\n",
    "\n",
    "plt.scatter(xs, ys, label=\"Data\")"
   ]
  },
  {
   "cell_type": "code",
   "execution_count": 27,
   "metadata": {},
   "outputs": [],
   "source": [
    "import functools\n",
    "from typing import NamedTuple\n",
    "\n",
    "class Params(NamedTuple):\n",
    "    weight: jnp.ndarray\n",
    "    bias: jnp.ndarray\n",
    "\n",
    "def init_model(rng):\n",
    "    weights_key, bias_key = jax.random.split(rng)\n",
    "    weight = jax.random.normal(weights_key, ())\n",
    "    bias = jax.random.normal(bias_key, ())\n",
    "    return Params(weight, bias)\n",
    "\n",
    "def forward(params, x):\n",
    "    return params.weight * x + params.bias\n",
    "\n",
    "def loss_fn(params, x, y):\n",
    "    pred = forward(params, x)\n",
    "    return jnp.mean((pred - y) ** 2)\n",
    "\n",
    "@functools.partial(jax.pmap, axis_name='batch')\n",
    "def update(params, x, y):\n",
    "    loss, grads = jax.value_and_grad(loss_fn)(params, x, y)\n",
    "    \n",
    "    grads = jax.lax.pmean(grads, axis_name=\"batch\")\n",
    "\n",
    "    loss = jax.lax.pmean(loss, axis_name=\"batch\")\n",
    "    \n",
    "    new_params = jax.tree.map(lambda p, g: p - lr * g, params, grads)\n",
    "\n",
    "    return new_params, loss\n"
   ]
  },
  {
   "cell_type": "code",
   "execution_count": 28,
   "metadata": {},
   "outputs": [],
   "source": [
    "params = init_model(jax.random.PRNGKey(0))\n",
    "n_devices = jax.local_device_count()\n",
    "replicated_params = jax.tree.map(lambda x: jnp.array([x] * n_devices), params)"
   ]
  },
  {
   "cell_type": "code",
   "execution_count": 29,
   "metadata": {},
   "outputs": [
    {
     "name": "stdout",
     "output_type": "stream",
     "text": [
      "(4, 32, 1) (4, 32, 1)\n"
     ]
    }
   ],
   "source": [
    "def reshape_for_pmap(data, n_devices):\n",
    "    return data.reshape(n_devices, data.shape[0] // n_devices, *data.shape[1:])\n",
    "\n",
    "x_parallel = reshape_for_pmap(xs, n_devices)\n",
    "y_parallel = reshape_for_pmap(ys, n_devices)\n",
    "\n",
    "print(x_parallel.shape, y_parallel.shape)"
   ]
  },
  {
   "cell_type": "code",
   "execution_count": 30,
   "metadata": {},
   "outputs": [
    {
     "name": "stdout",
     "output_type": "stream",
     "text": [
      "Epoch 0: Loss = [4.2677193 4.2677193 4.2677193 4.2677193]\n",
      "Epoch 100: Loss = [4.095795 4.095795 4.095795 4.095795]\n",
      "Epoch 200: Loss = [3.9311268 3.9311268 3.9311268 3.9311268]\n",
      "Epoch 300: Loss = [3.7734084 3.7734084 3.7734084 3.7734084]\n"
     ]
    },
    {
     "name": "stdout",
     "output_type": "stream",
     "text": [
      "Epoch 400: Loss = [3.6223464 3.6223464 3.6223464 3.6223464]\n",
      "Epoch 500: Loss = [3.4776597 3.4776597 3.4776597 3.4776597]\n",
      "Epoch 600: Loss = [3.339079 3.339079 3.339079 3.339079]\n",
      "Epoch 700: Loss = [3.2063465 3.2063465 3.2063465 3.2063465]\n",
      "Epoch 800: Loss = [3.0792155 3.0792155 3.0792155 3.0792155]\n",
      "Epoch 900: Loss = [2.9574506 2.9574506 2.9574506 2.9574506]\n",
      "Epoch 1000: Loss = [2.8408232 2.8408232 2.8408232 2.8408232]\n",
      "Epoch 1100: Loss = [2.7291176 2.7291176 2.7291176 2.7291176]\n",
      "Epoch 1200: Loss = [2.6221256 2.6221256 2.6221256 2.6221256]\n",
      "Epoch 1300: Loss = [2.519649 2.519649 2.519649 2.519649]\n",
      "Epoch 1400: Loss = [2.4214962 2.4214962 2.4214962 2.4214962]\n",
      "Epoch 1500: Loss = [2.3274856 2.3274856 2.3274856 2.3274856]\n",
      "Epoch 1600: Loss = [2.237441 2.237441 2.237441 2.237441]\n",
      "Epoch 1700: Loss = [2.151197 2.151197 2.151197 2.151197]\n",
      "Epoch 1800: Loss = [2.0685918 2.0685918 2.0685918 2.0685918]\n",
      "Epoch 1900: Loss = [1.9894732 1.9894732 1.9894732 1.9894732]\n",
      "Epoch 2000: Loss = [1.9136932 1.9136932 1.9136932 1.9136932]\n",
      "Epoch 2100: Loss = [1.8411087 1.8411087 1.8411087 1.8411087]\n",
      "Epoch 2200: Loss = [1.7715871 1.7715871 1.7715871 1.7715871]\n",
      "Epoch 2300: Loss = [1.7049989 1.7049989 1.7049989 1.7049989]\n",
      "Epoch 2400: Loss = [1.6412201 1.6412201 1.6412201 1.6412201]\n",
      "Epoch 2500: Loss = [1.5801322 1.5801322 1.5801322 1.5801322]\n",
      "Epoch 2600: Loss = [1.5216218 1.5216218 1.5216218 1.5216218]\n",
      "Epoch 2700: Loss = [1.4655795 1.4655795 1.4655795 1.4655795]\n",
      "Epoch 2800: Loss = [1.4119017 1.4119017 1.4119017 1.4119017]\n",
      "Epoch 2900: Loss = [1.3604887 1.3604887 1.3604887 1.3604887]\n",
      "Epoch 3000: Loss = [1.311244 1.311244 1.311244 1.311244]\n",
      "Epoch 3100: Loss = [1.2640772 1.2640772 1.2640772 1.2640772]\n",
      "Epoch 3200: Loss = [1.2188997 1.2188997 1.2188997 1.2188997]\n",
      "Epoch 3300: Loss = [1.175628 1.175628 1.175628 1.175628]\n",
      "Epoch 3400: Loss = [1.134182 1.134182 1.134182 1.134182]\n",
      "Epoch 3500: Loss = [1.0944848 1.0944848 1.0944848 1.0944848]\n",
      "Epoch 3600: Loss = [1.0564616 1.0564616 1.0564616 1.0564616]\n",
      "Epoch 3700: Loss = [1.0200429 1.0200429 1.0200429 1.0200429]\n",
      "Epoch 3800: Loss = [0.9851609 0.9851609 0.9851609 0.9851609]\n",
      "Epoch 3900: Loss = [0.9517496 0.9517496 0.9517496 0.9517496]\n",
      "Epoch 4000: Loss = [0.9197475 0.9197475 0.9197475 0.9197475]\n",
      "Epoch 4100: Loss = [0.88909525 0.88909525 0.88909525 0.88909525]\n",
      "Epoch 4200: Loss = [0.8597357 0.8597357 0.8597357 0.8597357]\n",
      "Epoch 4300: Loss = [0.83161473 0.83161473 0.83161473 0.83161473]\n",
      "Epoch 4400: Loss = [0.80467993 0.80467993 0.80467993 0.80467993]\n",
      "Epoch 4500: Loss = [0.77888083 0.77888083 0.77888083 0.77888083]\n",
      "Epoch 4600: Loss = [0.75417006 0.75417006 0.75417006 0.75417006]\n",
      "Epoch 4700: Loss = [0.73050153 0.73050153 0.73050153 0.73050153]\n",
      "Epoch 4800: Loss = [0.707831 0.707831 0.707831 0.707831]\n",
      "Epoch 4900: Loss = [0.68611676 0.68611676 0.68611676 0.68611676]\n",
      "Epoch 5000: Loss = [0.6653181 0.6653181 0.6653181 0.6653181]\n",
      "Epoch 5100: Loss = [0.6453967 0.6453967 0.6453967 0.6453967]\n",
      "Epoch 5200: Loss = [0.6263157 0.6263157 0.6263157 0.6263157]\n",
      "Epoch 5300: Loss = [0.6080389 0.6080389 0.6080389 0.6080389]\n",
      "Epoch 5400: Loss = [0.59053314 0.59053314 0.59053314 0.59053314]\n",
      "Epoch 5500: Loss = [0.57376534 0.57376534 0.57376534 0.57376534]\n",
      "Epoch 5600: Loss = [0.5577045 0.5577045 0.5577045 0.5577045]\n",
      "Epoch 5700: Loss = [0.5423213 0.5423213 0.5423213 0.5423213]\n",
      "Epoch 5800: Loss = [0.52758646 0.52758646 0.52758646 0.52758646]\n",
      "Epoch 5900: Loss = [0.5134729 0.5134729 0.5134729 0.5134729]\n",
      "Epoch 6000: Loss = [0.4999546 0.4999546 0.4999546 0.4999546]\n",
      "Epoch 6100: Loss = [0.48700613 0.48700613 0.48700613 0.48700613]\n",
      "Epoch 6200: Loss = [0.47460383 0.47460383 0.47460383 0.47460383]\n",
      "Epoch 6300: Loss = [0.46272433 0.46272433 0.46272433 0.46272433]\n",
      "Epoch 6400: Loss = [0.45134592 0.45134592 0.45134592 0.45134592]\n",
      "Epoch 6500: Loss = [0.44044727 0.44044727 0.44044727 0.44044727]\n",
      "Epoch 6600: Loss = [0.43000793 0.43000793 0.43000793 0.43000793]\n",
      "Epoch 6700: Loss = [0.42000884 0.42000884 0.42000884 0.42000884]\n",
      "Epoch 6800: Loss = [0.41043139 0.41043139 0.41043139 0.41043139]\n",
      "Epoch 6900: Loss = [0.40125754 0.40125754 0.40125754 0.40125754]\n",
      "Epoch 7000: Loss = [0.39247087 0.39247087 0.39247087 0.39247087]\n",
      "Epoch 7100: Loss = [0.38405424 0.38405424 0.38405424 0.38405424]\n",
      "Epoch 7200: Loss = [0.37599242 0.37599242 0.37599242 0.37599242]\n",
      "Epoch 7300: Loss = [0.3682707 0.3682707 0.3682707 0.3682707]\n",
      "Epoch 7400: Loss = [0.36087412 0.36087412 0.36087412 0.36087412]\n",
      "Epoch 7500: Loss = [0.35378948 0.35378948 0.35378948 0.35378948]\n",
      "Epoch 7600: Loss = [0.34700355 0.34700355 0.34700355 0.34700355]\n",
      "Epoch 7700: Loss = [0.34050328 0.34050328 0.34050328 0.34050328]\n",
      "Epoch 7800: Loss = [0.33427727 0.33427727 0.33427727 0.33427727]\n",
      "Epoch 7900: Loss = [0.32831368 0.32831368 0.32831368 0.32831368]\n",
      "Epoch 8000: Loss = [0.3226016 0.3226016 0.3226016 0.3226016]\n",
      "Epoch 8100: Loss = [0.3171303 0.3171303 0.3171303 0.3171303]\n",
      "Epoch 8200: Loss = [0.31188953 0.31188953 0.31188953 0.31188953]\n",
      "Epoch 8300: Loss = [0.30686963 0.30686963 0.30686963 0.30686963]\n",
      "Epoch 8400: Loss = [0.30206126 0.30206126 0.30206126 0.30206126]\n",
      "Epoch 8500: Loss = [0.29745573 0.29745573 0.29745573 0.29745573]\n",
      "Epoch 8600: Loss = [0.2930442 0.2930442 0.2930442 0.2930442]\n",
      "Epoch 8700: Loss = [0.28881866 0.28881866 0.28881866 0.28881866]\n",
      "Epoch 8800: Loss = [0.2847711 0.2847711 0.2847711 0.2847711]\n",
      "Epoch 8900: Loss = [0.28089422 0.28089422 0.28089422 0.28089422]\n",
      "Epoch 9000: Loss = [0.2771807 0.2771807 0.2771807 0.2771807]\n",
      "Epoch 9100: Loss = [0.27362376 0.27362376 0.27362376 0.27362376]\n",
      "Epoch 9200: Loss = [0.27021658 0.27021658 0.27021658 0.27021658]\n",
      "Epoch 9300: Loss = [0.26695308 0.26695308 0.26695308 0.26695308]\n",
      "Epoch 9400: Loss = [0.26382697 0.26382697 0.26382697 0.26382697]\n",
      "Epoch 9500: Loss = [0.26083273 0.26083273 0.26083273 0.26083273]\n",
      "Epoch 9600: Loss = [0.25796455 0.25796455 0.25796455 0.25796455]\n",
      "Epoch 9700: Loss = [0.2552173 0.2552173 0.2552173 0.2552173]\n",
      "Epoch 9800: Loss = [0.25258595 0.25258595 0.25258595 0.25258595]\n",
      "Epoch 9900: Loss = [0.25006533 0.25006533 0.25006533 0.25006533]\n",
      "Final loss: [0.24767447 0.24767447 0.24767447 0.24767447]\n"
     ]
    }
   ],
   "source": [
    "num_epochs = 10000\n",
    "\n",
    "for epoch in range(num_epochs):\n",
    "    replicated_params, loss = update(replicated_params, x_parallel, y_parallel)\n",
    "\n",
    "    if epoch % 100 == 0:\n",
    "        print(f\"Epoch {epoch}: Loss = {loss}\")\n",
    "\n",
    "print(f\"Final loss: {loss}\")\n",
    "\n",
    "\n",
    "final_params = jax.device_get(jax.tree.map(lambda x: x[0], replicated_params))"
   ]
  },
  {
   "cell_type": "code",
   "execution_count": 31,
   "metadata": {},
   "outputs": [
    {
     "data": {
      "image/png": "[encoded data removed]",
      "text/plain": [
       "<Figure size 640x480 with 1 Axes>"
      ]
     },
     "metadata": {},
     "output_type": "display_data"
    }
   ],
   "source": [
    "plt.scatter(xs, ys, label=\"Data\")\n",
    "plt.plot(xs, forward(final_params, xs), c=\"red\", label=\"Model\")\n",
    "plt.legend()\n",
    "plt.show();"
   ]
  },
  {
   "cell_type": "markdown",
   "metadata": {},
   "source": [
    "# Classifying MNIST"
   ]
  },
  {
   "cell_type": "code",
   "execution_count": 1,
   "metadata": {},
   "outputs": [],
   "source": [
    "import numpy as np\n",
    "import jax.numpy as jnp\n",
    "import jax\n",
    "from jax import jit, vmap"
   ]
  },
  {
   "cell_type": "code",
   "execution_count": 2,
   "metadata": {},
   "outputs": [
    {
     "name": "stderr",
     "output_type": "stream",
     "text": [
      "2024-08-19 23:23:15.679010: W external/xla/xla/service/gpu/nvptx_compiler.cc:836] The NVIDIA driver's CUDA version is 12.1 which is older than the PTX compiler version (12.5.82). Because the driver is older than the PTX compiler version, XLA is disabling parallel compilation, which may slow down compilation. You should update your NVIDIA driver or use the NVIDIA-provided CUDA forward compatibility packages.\n"
     ]
    },
    {
     "name": "stdout",
     "output_type": "stream",
     "text": [
      "[[(512, 784), (512,)], [(256, 512), (256,)], [(10, 256), (10,)]]\n"
     ]
    }
   ],
   "source": [
    "seed = 42\n",
    "\n",
    "def init_MLP(layer_dims, key, scale=0.01):\n",
    "    \"\"\"\n",
    "    Initializes a multi-layer perceptron with the given layer dimensions.\n",
    "    \"\"\"\n",
    "    params = []\n",
    "\n",
    "    keys = jax.random.split(key, len(layer_dims) - 1)\n",
    "\n",
    "    for in_dim, out_dim, layer_key in zip(layer_dims[:-1], layer_dims[1:], keys):\n",
    "        w_key, b_key = jax.random.split(layer_key)\n",
    "        params.append(\n",
    "            [\n",
    "                scale * jax.random.normal(w_key, (out_dim, in_dim)), \n",
    "                scale * jax.random.normal(b_key,(out_dim,))\n",
    "            ]\n",
    "        )\n",
    "\n",
    "    return params\n",
    "\n",
    "# initialize the parameters of the MLP with some random values\n",
    "key = jax.random.PRNGKey(seed)\n",
    "MLP_params = init_MLP([784, 512, 256, 10], key)\n",
    "\n",
    "# Check the shapes of the parameters\n",
    "print(jax.tree.map(lambda x: x.shape, MLP_params))"
   ]
  },
  {
   "cell_type": "code",
   "execution_count": 3,
   "metadata": {},
   "outputs": [
    {
     "name": "stdout",
     "output_type": "stream",
     "text": [
      "(784,)\n",
      "(10,)\n"
     ]
    }
   ],
   "source": [
    "from jax.scipy.special import logsumexp\n",
    "\n",
    "@jit\n",
    "def MLP_predict(params, x):\n",
    "    \"\"\"\n",
    "    Predicts the output of a neural network with given parameters.\n",
    "    \"\"\"\n",
    "    activation = x\n",
    "    for w, b in params[:-1]:\n",
    "        activation = jax.nn.relu(jnp.dot(w, activation) + b)\n",
    "\n",
    "    w_last, b_last = params[-1]\n",
    "    logits = jnp.dot(w_last, activation) + b_last\n",
    "\n",
    "    return logits - logsumexp(logits)\n",
    "\n",
    "# Generate some fake data\n",
    "flat_img = np.random.randn(np.prod(784))\n",
    "print(flat_img.shape)\n",
    "\n",
    "# Check the prediction shape matches expectation\n",
    "prediction = MLP_predict(MLP_params, flat_img)\n",
    "print(prediction.shape)"
   ]
  },
  {
   "cell_type": "code",
   "execution_count": 4,
   "metadata": {},
   "outputs": [
    {
     "name": "stdout",
     "output_type": "stream",
     "text": [
      "(16, 784)\n"
     ]
    },
    {
     "name": "stdout",
     "output_type": "stream",
     "text": [
      "(16, 10)\n"
     ]
    }
   ],
   "source": [
    "# Wrap single data point function in a vmap to produce batched function - provide the batched argument MLP_predict(params: No batch, x: batch_dim = 0)\n",
    "batched_MLP_predict = vmap(MLP_predict, in_axes=(None, 0))\n",
    "\n",
    "# Generate fake batched data\n",
    "batched_flat_img = np.random.randn(16, np.prod(784))\n",
    "print(batched_flat_img.shape)\n",
    "\n",
    "# Check batched output matches expectation\n",
    "batched_prediction = batched_MLP_predict(MLP_params, batched_flat_img)\n",
    "print(batched_prediction.shape)"
   ]
  },
  {
   "cell_type": "code",
   "execution_count": 5,
   "metadata": {},
   "outputs": [],
   "source": [
    "# Import torchvision MNIST dataloaders\n",
    "import torch\n",
    "import torchvision\n",
    "import torchvision.transforms as transforms\n",
    "\n",
    "def convert_to_numpy(x: torch.Tensor) -> np.array:\n",
    "    return np.ravel(np.array(x, dtype=np.float32))\n",
    "\n",
    "def collate_fn(batch):\n",
    "    batch = list(zip(*batch))\n",
    "    return np.stack(batch[0]), np.array(batch[1])\n",
    "\n",
    "\n",
    "# Define transforms\n",
    "transform = transforms.Compose([convert_to_numpy])\n",
    "\n",
    "# Download MNIST train and test datasets\n",
    "trainset = torchvision.datasets.MNIST(root='../data', train=True,\n",
    "                                        download=True, transform=transform)\n",
    "testset = torchvision.datasets.MNIST(root='../data', train=False,\n",
    "                                       download=True, transform=transform)\n",
    "\n",
    "# Define dataloaders\n",
    "trainloader = torch.utils.data.DataLoader(\n",
    "    trainset, batch_size=128, shuffle=True, num_workers=0, collate_fn=collate_fn, drop_last=True\n",
    ")\n",
    "testloader = torch.utils.data.DataLoader(\n",
    "    testset, batch_size=128, shuffle=False, num_workers=0, collate_fn=collate_fn, drop_last=True\n",
    ")"
   ]
  },
  {
   "cell_type": "code",
   "execution_count": 6,
   "metadata": {},
   "outputs": [
    {
     "name": "stdout",
     "output_type": "stream",
     "text": [
      "(128, 784) (128,)\n",
      "<class 'numpy.ndarray'> <class 'numpy.ndarray'>\n"
     ]
    }
   ],
   "source": [
    "batch_data = next(iter(trainloader))\n",
    "print(batch_data[0].shape, batch_data[1].shape)\n",
    "print(type(batch_data[0]), type(batch_data[1]))"
   ]
  },
  {
   "cell_type": "code",
   "execution_count": 7,
   "metadata": {},
   "outputs": [
    {
     "name": "stdout",
     "output_type": "stream",
     "text": [
      "Epoch 0\n",
      "Batch: 0, Loss:  0.256629, Train Acc.:  10.937500\n",
      "Batch: 50, Loss:  0.077184, Train Acc.:  83.593750\n",
      "Batch: 100, Loss:  0.053044, Train Acc.:  85.937500\n",
      "Batch: 150, Loss:  0.049249, Train Acc.:  85.937500\n",
      "Batch: 200, Loss:  0.038421, Train Acc.:  88.281250\n",
      "Batch: 250, Loss:  0.032389, Train Acc.:  89.843750\n",
      "Batch: 300, Loss:  0.025499, Train Acc.:  93.750000\n",
      "Batch: 350, Loss:  0.042998, Train Acc.:  85.937500\n",
      "Batch: 400, Loss:  0.023638, Train Acc.:  92.187500\n",
      "Batch: 450, Loss:  0.026261, Train Acc.:  90.625000\n",
      "Epoch: 0, Test Loss:  0.027269, Test Acc.:  92.238\n",
      "Epoch 1\n",
      "Batch: 0, Loss:  0.024027, Train Acc.:  92.968750\n",
      "Batch: 50, Loss:  0.037049, Train Acc.:  89.843750\n",
      "Batch: 100, Loss:  0.031301, Train Acc.:  94.531250\n",
      "Batch: 150, Loss:  0.027464, Train Acc.:  92.187500\n",
      "Batch: 200, Loss:  0.017254, Train Acc.:  94.531250\n",
      "Batch: 250, Loss:  0.031174, Train Acc.:  89.062500\n",
      "Batch: 300, Loss:  0.028292, Train Acc.:  91.406250\n",
      "Batch: 350, Loss:  0.029487, Train Acc.:  90.625000\n",
      "Batch: 400, Loss:  0.024640, Train Acc.:  90.625000\n",
      "Batch: 450, Loss:  0.023019, Train Acc.:  93.750000\n",
      "Epoch: 1, Test Loss:  0.021788, Test Acc.:  93.730\n",
      "Epoch 2\n",
      "Batch: 0, Loss:  0.021130, Train Acc.:  93.750000\n",
      "Batch: 50, Loss:  0.018636, Train Acc.:  93.750000\n",
      "Batch: 100, Loss:  0.014030, Train Acc.:  95.312500\n",
      "Batch: 150, Loss:  0.011293, Train Acc.:  96.875000\n",
      "Batch: 200, Loss:  0.015661, Train Acc.:  96.875000\n",
      "Batch: 250, Loss:  0.021367, Train Acc.:  96.093750\n",
      "Batch: 300, Loss:  0.015469, Train Acc.:  95.312500\n",
      "Batch: 350, Loss:  0.020464, Train Acc.:  92.968750\n",
      "Batch: 400, Loss:  0.011706, Train Acc.:  96.093750\n",
      "Batch: 450, Loss:  0.020914, Train Acc.:  92.968750\n",
      "Epoch: 2, Test Loss:  0.018166, Test Acc.:  94.712\n",
      "Epoch 3\n",
      "Batch: 0, Loss:  0.021868, Train Acc.:  95.312500\n",
      "Batch: 50, Loss:  0.021452, Train Acc.:  94.531250\n",
      "Batch: 100, Loss:  0.006539, Train Acc.:  99.218750\n",
      "Batch: 150, Loss:  0.020237, Train Acc.:  93.750000\n",
      "Batch: 200, Loss:  0.016326, Train Acc.:  94.531250\n",
      "Batch: 250, Loss:  0.027370, Train Acc.:  92.968750\n",
      "Batch: 300, Loss:  0.023921, Train Acc.:  94.531250\n",
      "Batch: 350, Loss:  0.016097, Train Acc.:  96.875000\n",
      "Batch: 400, Loss:  0.029934, Train Acc.:  92.187500\n",
      "Batch: 450, Loss:  0.012792, Train Acc.:  96.093750\n",
      "Epoch: 3, Test Loss:  0.015897, Test Acc.:  95.132\n",
      "Epoch 4\n",
      "Batch: 0, Loss:  0.013201, Train Acc.:  95.312500\n",
      "Batch: 50, Loss:  0.015706, Train Acc.:  96.093750\n",
      "Batch: 100, Loss:  0.009425, Train Acc.:  97.656250\n",
      "Batch: 150, Loss:  0.023967, Train Acc.:  90.625000\n",
      "Batch: 200, Loss:  0.011047, Train Acc.:  97.656250\n",
      "Batch: 250, Loss:  0.013188, Train Acc.:  95.312500\n",
      "Batch: 300, Loss:  0.020555, Train Acc.:  93.750000\n",
      "Batch: 350, Loss:  0.012468, Train Acc.:  96.875000\n",
      "Batch: 400, Loss:  0.016088, Train Acc.:  96.875000\n",
      "Batch: 450, Loss:  0.011131, Train Acc.:  95.312500\n",
      "Epoch: 4, Test Loss:  0.014282, Test Acc.:  95.653\n",
      "Epoch 5\n",
      "Batch: 0, Loss:  0.017995, Train Acc.:  92.968750\n",
      "Batch: 50, Loss:  0.015665, Train Acc.:  96.093750\n",
      "Batch: 100, Loss:  0.007487, Train Acc.:  97.656250\n",
      "Batch: 150, Loss:  0.013698, Train Acc.:  94.531250\n",
      "Batch: 200, Loss:  0.007761, Train Acc.:  97.656250\n",
      "Batch: 250, Loss:  0.015346, Train Acc.:  96.093750\n",
      "Batch: 300, Loss:  0.010661, Train Acc.:  99.218750\n",
      "Batch: 350, Loss:  0.008472, Train Acc.:  95.312500\n",
      "Batch: 400, Loss:  0.007850, Train Acc.:  97.656250\n",
      "Batch: 450, Loss:  0.013238, Train Acc.:  94.531250\n",
      "Epoch: 5, Test Loss:  0.012621, Test Acc.:  96.344\n",
      "Epoch 6\n",
      "Batch: 0, Loss:  0.008124, Train Acc.:  96.875000\n",
      "Batch: 50, Loss:  0.009186, Train Acc.:  98.437500\n",
      "Batch: 100, Loss:  0.011686, Train Acc.:  97.656250\n",
      "Batch: 150, Loss:  0.010449, Train Acc.:  96.875000\n",
      "Batch: 200, Loss:  0.013667, Train Acc.:  96.093750\n",
      "Batch: 250, Loss:  0.006933, Train Acc.:  97.656250\n",
      "Batch: 300, Loss:  0.014094, Train Acc.:  96.093750\n",
      "Batch: 350, Loss:  0.009195, Train Acc.:  97.656250\n",
      "Batch: 400, Loss:  0.007778, Train Acc.:  98.437500\n",
      "Batch: 450, Loss:  0.009378, Train Acc.:  97.656250\n",
      "Epoch: 6, Test Loss:  0.011672, Test Acc.:  96.655\n",
      "Epoch 7\n",
      "Batch: 0, Loss:  0.010497, Train Acc.:  95.312500\n",
      "Batch: 50, Loss:  0.009286, Train Acc.:  98.437500\n",
      "Batch: 100, Loss:  0.009727, Train Acc.:  96.093750\n",
      "Batch: 150, Loss:  0.008498, Train Acc.:  96.875000\n",
      "Batch: 200, Loss:  0.009695, Train Acc.:  96.093750\n",
      "Batch: 250, Loss:  0.010883, Train Acc.:  96.875000\n",
      "Batch: 300, Loss:  0.005693, Train Acc.:  99.218750\n",
      "Batch: 350, Loss:  0.008689, Train Acc.:  97.656250\n",
      "Batch: 400, Loss:  0.009635, Train Acc.:  96.093750\n",
      "Batch: 450, Loss:  0.010660, Train Acc.:  98.437500\n",
      "Epoch: 7, Test Loss:  0.011225, Test Acc.:  96.755\n",
      "Epoch 8\n",
      "Batch: 0, Loss:  0.003822, Train Acc.:  100.000000\n",
      "Batch: 50, Loss:  0.012905, Train Acc.:  96.875000\n",
      "Batch: 100, Loss:  0.010026, Train Acc.:  97.656250\n",
      "Batch: 150, Loss:  0.007813, Train Acc.:  97.656250\n",
      "Batch: 200, Loss:  0.004832, Train Acc.:  99.218750\n",
      "Batch: 250, Loss:  0.004051, Train Acc.:  98.437500\n",
      "Batch: 300, Loss:  0.011130, Train Acc.:  96.875000\n",
      "Batch: 350, Loss:  0.004593, Train Acc.:  99.218750\n",
      "Batch: 400, Loss:  0.007679, Train Acc.:  96.875000\n",
      "Batch: 450, Loss:  0.006861, Train Acc.:  98.437500\n",
      "Epoch: 8, Test Loss:  0.010284, Test Acc.:  97.015\n",
      "Epoch 9\n",
      "Batch: 0, Loss:  0.025222, Train Acc.:  94.531250\n",
      "Batch: 50, Loss:  0.006134, Train Acc.:  98.437500\n",
      "Batch: 100, Loss:  0.006435, Train Acc.:  98.437500\n",
      "Batch: 150, Loss:  0.016771, Train Acc.:  94.531250\n",
      "Batch: 200, Loss:  0.006729, Train Acc.:  99.218750\n",
      "Batch: 250, Loss:  0.013201, Train Acc.:  94.531250\n",
      "Batch: 300, Loss:  0.007463, Train Acc.:  98.437500\n",
      "Batch: 350, Loss:  0.006667, Train Acc.:  97.656250\n",
      "Batch: 400, Loss:  0.010257, Train Acc.:  96.875000\n",
      "Batch: 450, Loss:  0.008821, Train Acc.:  97.656250\n",
      "Epoch: 9, Test Loss:  0.009831, Test Acc.:  97.085\n"
     ]
    }
   ],
   "source": [
    "num_epochs = 10\n",
    "\n",
    "@jit\n",
    "def loss_fn(params, images, labels):\n",
    "    preds = batched_MLP_predict(params, images)\n",
    "\n",
    "    acc = accuracy(preds, labels) / labels.shape[0]\n",
    "\n",
    "    return -jnp.mean(preds * labels), acc # labels is a 1hot vector\n",
    "\n",
    "@jit\n",
    "def accuracy(preds, labels):\n",
    "    pred_classes = jnp.argmax(preds, axis=1)\n",
    "    return np.sum(pred_classes == jnp.argmax(labels, axis=1))\n",
    "\n",
    "@jit\n",
    "def update(params, imgs, labels, lr=1e-2):\n",
    "    (loss, acc), grads = jax.value_and_grad(loss_fn, has_aux=True)(params, imgs, labels)\n",
    "\n",
    "    return jax.tree.map(lambda p, g: p - lr * g, params, grads), loss, acc\n",
    "\n",
    "\n",
    "# Initialise MLP\n",
    "MLP_params = init_MLP([784, 512, 512, 10], key)\n",
    "\n",
    "# Training loop\n",
    "for epoch in range(num_epochs):\n",
    "    print(f\"Epoch {epoch}\")\n",
    "    for n, (images, labels) in enumerate(trainloader):\n",
    "        labels = jax.nn.one_hot(labels, len(torchvision.datasets.MNIST.classes))\n",
    "        MLP_params, loss, acc = update(MLP_params, images, labels)\n",
    "\n",
    "        if n % 50 == 0:\n",
    "            print(f\"Batch: {n}, Loss: {loss: .6f}, Train Acc.: {100*acc: .6f}\")\n",
    "\n",
    "    test_loss = 0\n",
    "    test_acc = 0\n",
    "    for images, labels in testloader:\n",
    "        labels = jax.nn.one_hot(labels, len(torchvision.datasets.MNIST.classes))\n",
    "        tl, ta = loss_fn(MLP_params, images, labels)\n",
    "        test_loss += tl\n",
    "        test_acc += ta\n",
    "\n",
    "    print(f\"Epoch: {epoch}, Test Loss: {test_loss / len(testloader) : 3f}, Test Acc.: {100*test_acc / len(testloader): .3f}\")"
   ]
  },
  {
   "cell_type": "code",
   "execution_count": 8,
   "metadata": {},
   "outputs": [
    {
     "data": {
      "image/png": "[encoded data removed]",
      "text/plain": [
       "<Figure size 640x480 with 1 Axes>"
      ]
     },
     "metadata": {},
     "output_type": "display_data"
    },
    {
     "name": "stdout",
     "output_type": "stream",
     "text": [
      "Predicted label: 7, True label: 7\n"
     ]
    }
   ],
   "source": [
    "imgs, labels = next(iter(testloader))\n",
    "example_img = imgs[0].reshape((28, 28))\n",
    "example_label = labels[0]\n",
    "\n",
    "import matplotlib.pyplot as plt\n",
    "\n",
    "pred = jnp.argmax(MLP_predict(MLP_params, np.ravel(example_img)))\n",
    "\n",
    "plt.imshow(example_img)\n",
    "plt.show()\n",
    "\n",
    "print(f\"Predicted label: {pred}, True label: {example_label}\")"
   ]
  },
  {
   "cell_type": "code",
   "execution_count": 9,
   "metadata": {},
   "outputs": [
    {
     "name": "stdout",
     "output_type": "stream",
     "text": [
      "2\n",
      "(128, 512)\n"
     ]
    }
   ],
   "source": [
    "from sklearn.manifold import TSNE\n",
    "\n",
    "\n",
    "def fetch_activations(params, x):\n",
    "    \"\"\"\n",
    "    Predicts the output of a neural network with given parameters.\n",
    "    \"\"\"\n",
    "    all_activations = []\n",
    "    activation = x\n",
    "    for w, b in params[:-1]:\n",
    "        activation = jax.nn.relu(jnp.dot(w, activation) + b)\n",
    "        all_activations.append(activation)\n",
    "\n",
    "    return all_activations\n",
    "\n",
    "batched_fetch_activations = vmap(fetch_activations, in_axes=(None, 0))\n",
    "\n",
    "batch_imgs, batch_labels = next(iter(testloader))\n",
    "batched_activations = batched_fetch_activations(MLP_params, batch_imgs)\n",
    "\n",
    "print(len(batched_activations))\n",
    "print(batched_activations[-1].shape)"
   ]
  },
  {
   "cell_type": "code",
   "execution_count": 10,
   "metadata": {},
   "outputs": [
    {
     "data": {
      "image/png": "[encoded data removed]",
      "text/plain": [
       "<Figure size 1500x600 with 2 Axes>"
      ]
     },
     "metadata": {},
     "output_type": "display_data"
    }
   ],
   "source": [
    "all_tsne_embeddings = [TSNE(n_components=2).fit_transform(x) for x in batched_activations]\n",
    "\n",
    "fig, axes = plt.subplots(1, len(all_tsne_embeddings), figsize=(15, 6))\n",
    "axes = axes.ravel()\n",
    "for ax, tsne_embeddings in zip(axes, all_tsne_embeddings):\n",
    "    for cls in range(10):\n",
    "        ax.scatter(\n",
    "            tsne_embeddings[labels == cls, 0],\n",
    "            tsne_embeddings[labels == cls, 1],\n",
    "            s=20,\n",
    "            label=cls,\n",
    "        )\n",
    "plt.show()"
   ]
  },
  {
   "cell_type": "code",
   "execution_count": 11,
   "metadata": {},
   "outputs": [
    {
     "name": "stdout",
     "output_type": "stream",
     "text": [
      "0\n",
      "13\n"
     ]
    }
   ],
   "source": [
    "dead_neurons = [np.ones(act.shape[1:]) for act in batched_activations]\n",
    "\n",
    "for layer_id, activations in enumerate(batched_activations):\n",
    "    dead_neurons[layer_id] = np.logical_and(dead_neurons[layer_id], (activations == 0).all(axis=0))\n",
    "\n",
    "for layers in dead_neurons:\n",
    "    print(np.sum(layers))"
   ]
  },
  {
   "cell_type": "code",
   "execution_count": 12,
   "metadata": {},
   "outputs": [
    {
     "name": "stdout",
     "output_type": "stream",
     "text": [
      "Number of devices 4\n"
     ]
    },
    {
     "name": "stdout",
     "output_type": "stream",
     "text": [
      "Epoch 0\n",
      "Batch: 0, Loss:  0.261108, Train Acc.:  11.718750\n",
      "Batch: 50, Loss:  0.080771, Train Acc.:  82.812500\n",
      "Batch: 100, Loss:  0.050682, Train Acc.:  88.281250\n",
      "Batch: 150, Loss:  0.046659, Train Acc.:  87.500000\n",
      "Batch: 200, Loss:  0.035941, Train Acc.:  89.843750\n",
      "Batch: 250, Loss:  0.043572, Train Acc.:  85.156250\n",
      "Batch: 300, Loss:  0.026651, Train Acc.:  92.187500\n",
      "Batch: 350, Loss:  0.023565, Train Acc.:  95.312500\n",
      "Batch: 400, Loss:  0.035970, Train Acc.:  89.843750\n",
      "Batch: 450, Loss:  0.024666, Train Acc.:  92.968750\n",
      "Epoch: 0, Test Loss:  0.026997, Test Acc.:  92.318\n",
      "Epoch 1\n",
      "Batch: 0, Loss:  0.033531, Train Acc.:  88.281250\n",
      "Batch: 50, Loss:  0.027670, Train Acc.:  90.625000\n",
      "Batch: 100, Loss:  0.025650, Train Acc.:  92.968750\n",
      "Batch: 150, Loss:  0.029144, Train Acc.:  94.531250\n",
      "Batch: 200, Loss:  0.019076, Train Acc.:  93.750000\n",
      "Batch: 250, Loss:  0.018728, Train Acc.:  92.968750\n",
      "Batch: 300, Loss:  0.023276, Train Acc.:  92.968750\n",
      "Batch: 350, Loss:  0.025497, Train Acc.:  90.625000\n",
      "Batch: 400, Loss:  0.027063, Train Acc.:  92.187500\n",
      "Batch: 450, Loss:  0.020827, Train Acc.:  92.187500\n",
      "Epoch: 1, Test Loss:  0.021504, Test Acc.:  93.850\n",
      "Epoch 2\n",
      "Batch: 0, Loss:  0.017303, Train Acc.:  94.531250\n",
      "Batch: 50, Loss:  0.019965, Train Acc.:  92.968750\n",
      "Batch: 100, Loss:  0.021073, Train Acc.:  95.312500\n",
      "Batch: 150, Loss:  0.023373, Train Acc.:  92.968750\n",
      "Batch: 200, Loss:  0.028166, Train Acc.:  90.625000\n",
      "Batch: 250, Loss:  0.019487, Train Acc.:  93.750000\n",
      "Batch: 300, Loss:  0.028460, Train Acc.:  90.625000\n",
      "Batch: 350, Loss:  0.014003, Train Acc.:  96.093750\n",
      "Batch: 400, Loss:  0.017057, Train Acc.:  93.750000\n",
      "Batch: 450, Loss:  0.012463, Train Acc.:  96.875000\n",
      "Epoch: 2, Test Loss:  0.018165, Test Acc.:  94.601\n",
      "Epoch 3\n",
      "Batch: 0, Loss:  0.016608, Train Acc.:  95.312500\n",
      "Batch: 50, Loss:  0.022001, Train Acc.:  94.531250\n",
      "Batch: 100, Loss:  0.030981, Train Acc.:  93.750000\n",
      "Batch: 150, Loss:  0.020263, Train Acc.:  94.531250\n",
      "Batch: 200, Loss:  0.014006, Train Acc.:  94.531250\n",
      "Batch: 250, Loss:  0.015312, Train Acc.:  95.312500\n",
      "Batch: 300, Loss:  0.018824, Train Acc.:  92.968750\n",
      "Batch: 350, Loss:  0.017277, Train Acc.:  94.531250\n",
      "Batch: 400, Loss:  0.020609, Train Acc.:  93.750000\n",
      "Batch: 450, Loss:  0.008574, Train Acc.:  97.656250\n",
      "Epoch: 3, Test Loss:  0.016019, Test Acc.:  95.212\n",
      "Epoch 4\n",
      "Batch: 0, Loss:  0.013511, Train Acc.:  96.875000\n",
      "Batch: 50, Loss:  0.014575, Train Acc.:  95.312500\n",
      "Batch: 100, Loss:  0.011068, Train Acc.:  98.437500\n",
      "Batch: 150, Loss:  0.014706, Train Acc.:  95.312500\n",
      "Batch: 200, Loss:  0.021976, Train Acc.:  92.968750\n",
      "Batch: 250, Loss:  0.014455, Train Acc.:  95.312500\n",
      "Batch: 300, Loss:  0.012639, Train Acc.:  96.875000\n",
      "Batch: 350, Loss:  0.010188, Train Acc.:  96.875000\n",
      "Batch: 400, Loss:  0.009885, Train Acc.:  96.875000\n",
      "Batch: 450, Loss:  0.018480, Train Acc.:  92.968750\n",
      "Epoch: 4, Test Loss:  0.014226, Test Acc.:  95.713\n",
      "Epoch 5\n",
      "Batch: 0, Loss:  0.012936, Train Acc.:  96.093750\n",
      "Batch: 50, Loss:  0.013060, Train Acc.:  96.093750\n",
      "Batch: 100, Loss:  0.012146, Train Acc.:  96.093750\n",
      "Batch: 150, Loss:  0.021619, Train Acc.:  95.312500\n",
      "Batch: 200, Loss:  0.016499, Train Acc.:  97.656250\n",
      "Batch: 250, Loss:  0.013764, Train Acc.:  94.531250\n",
      "Batch: 300, Loss:  0.011389, Train Acc.:  97.656250\n",
      "Batch: 350, Loss:  0.013435, Train Acc.:  94.531250\n",
      "Batch: 400, Loss:  0.010759, Train Acc.:  96.875000\n",
      "Batch: 450, Loss:  0.010348, Train Acc.:  96.093750\n",
      "Epoch: 5, Test Loss:  0.013031, Test Acc.:  96.114\n",
      "Epoch 6\n",
      "Batch: 0, Loss:  0.018357, Train Acc.:  96.093750\n",
      "Batch: 50, Loss:  0.011498, Train Acc.:  96.093750\n",
      "Batch: 100, Loss:  0.009010, Train Acc.:  98.437500\n",
      "Batch: 150, Loss:  0.009531, Train Acc.:  98.437500\n",
      "Batch: 200, Loss:  0.022286, Train Acc.:  96.875000\n",
      "Batch: 250, Loss:  0.011331, Train Acc.:  97.656250\n",
      "Batch: 300, Loss:  0.014791, Train Acc.:  95.312500\n",
      "Batch: 350, Loss:  0.007222, Train Acc.:  100.000000\n",
      "Batch: 400, Loss:  0.009282, Train Acc.:  97.656250\n",
      "Batch: 450, Loss:  0.007937, Train Acc.:  96.875000\n",
      "Epoch: 6, Test Loss:  0.011813, Test Acc.:  96.504\n",
      "Epoch 7\n",
      "Batch: 0, Loss:  0.009274, Train Acc.:  96.093750\n",
      "Batch: 50, Loss:  0.008293, Train Acc.:  96.875000\n",
      "Batch: 100, Loss:  0.006838, Train Acc.:  98.437500\n",
      "Batch: 150, Loss:  0.009421, Train Acc.:  96.093750\n",
      "Batch: 200, Loss:  0.013796, Train Acc.:  94.531250\n",
      "Batch: 250, Loss:  0.006638, Train Acc.:  98.437500\n",
      "Batch: 300, Loss:  0.008423, Train Acc.:  96.875000\n",
      "Batch: 350, Loss:  0.005773, Train Acc.:  98.437500\n",
      "Batch: 400, Loss:  0.010829, Train Acc.:  96.093750\n",
      "Batch: 450, Loss:  0.008998, Train Acc.:  97.656250\n",
      "Epoch: 7, Test Loss:  0.010965, Test Acc.:  96.765\n",
      "Epoch 8\n",
      "Batch: 0, Loss:  0.007900, Train Acc.:  96.875000\n",
      "Batch: 50, Loss:  0.003894, Train Acc.:  99.218750\n",
      "Batch: 100, Loss:  0.009484, Train Acc.:  97.656250\n",
      "Batch: 150, Loss:  0.006085, Train Acc.:  98.437500\n",
      "Batch: 200, Loss:  0.012175, Train Acc.:  94.531250\n",
      "Batch: 250, Loss:  0.009965, Train Acc.:  96.875000\n",
      "Batch: 300, Loss:  0.006084, Train Acc.:  99.218750\n",
      "Batch: 350, Loss:  0.007921, Train Acc.:  98.437500\n",
      "Batch: 400, Loss:  0.008485, Train Acc.:  98.437500\n",
      "Batch: 450, Loss:  0.007108, Train Acc.:  97.656250\n",
      "Epoch: 8, Test Loss:  0.010412, Test Acc.:  96.785\n",
      "Epoch 9\n",
      "Batch: 0, Loss:  0.009262, Train Acc.:  96.875000\n",
      "Batch: 50, Loss:  0.008666, Train Acc.:  98.437500\n",
      "Batch: 100, Loss:  0.009769, Train Acc.:  97.656250\n",
      "Batch: 150, Loss:  0.008422, Train Acc.:  96.875000\n",
      "Batch: 200, Loss:  0.005255, Train Acc.:  99.218750\n",
      "Batch: 250, Loss:  0.012786, Train Acc.:  96.093750\n",
      "Batch: 300, Loss:  0.007694, Train Acc.:  98.437500\n",
      "Batch: 350, Loss:  0.005098, Train Acc.:  97.656250\n",
      "Batch: 400, Loss:  0.009743, Train Acc.:  97.656250\n",
      "Batch: 450, Loss:  0.009050, Train Acc.:  97.656250\n",
      "Epoch: 9, Test Loss:  0.009856, Test Acc.:  97.015\n"
     ]
    }
   ],
   "source": [
    "import functools\n",
    "\n",
    "n_devices = jax.local_device_count()\n",
    "print(f\"Number of devices {n_devices}\")\n",
    "\n",
    "num_epochs = 10\n",
    "\n",
    "# Wrap the update function in a pmap for parallelisation across GPUs\n",
    "@functools.partial(jax.pmap, axis_name=\"batch\")\n",
    "def update(params, imgs, labels, lr=1e-2):\n",
    "    (loss, acc), grads = jax.value_and_grad(loss_fn, has_aux=True)(params, imgs, labels)\n",
    "\n",
    "    # Compute the mean gradients, losses and accuracies across each device\n",
    "    grads = jax.lax.pmean(grads, axis_name=\"batch\")\n",
    "    loss = jax.lax.pmean(loss, axis_name=\"batch\")\n",
    "    acc = jax.lax.pmean(acc, axis_name=\"batch\")\n",
    "\n",
    "    # Update the replicated parameters on each device\n",
    "    return jax.tree.map(lambda p, g: p - lr * g, params, grads), loss, acc\n",
    "\n",
    "\n",
    "# Initialise MLP\n",
    "MLP_params = init_MLP([784, 512, 512, 10], key)\n",
    "# Replicate the parameters for each device\n",
    "MLP_replicated_params = jax.tree.map(lambda x: jnp.array([x] * n_devices), MLP_params)\n",
    "\n",
    "\n",
    "def reshape_for_pmap(data, n_devices):\n",
    "    return data.reshape(n_devices, data.shape[0] // n_devices, *data.shape[1:])\n",
    "\n",
    "\n",
    "# Training loop\n",
    "for epoch in range(num_epochs):\n",
    "    print(f\"Epoch {epoch}\")\n",
    "    for n, (images, labels) in enumerate(trainloader):\n",
    "        labels = jax.nn.one_hot(labels, len(torchvision.datasets.MNIST.classes))\n",
    "        images_parallel, labels_parallel = reshape_for_pmap(images, n_devices), reshape_for_pmap(labels, n_devices)\n",
    "        MLP_replicated_params, loss, acc = update(\n",
    "            MLP_replicated_params, images_parallel, labels_parallel\n",
    "        )\n",
    "\n",
    "        if n % 50 == 0:\n",
    "            print(f\"Batch: {n}, Loss: {np.mean(loss): .6f}, Train Acc.: {100*np.mean(acc): .6f}\")\n",
    "\n",
    "    test_loss = 0\n",
    "    test_acc = 0\n",
    "    for images, labels in testloader:\n",
    "        labels = jax.nn.one_hot(labels, len(torchvision.datasets.MNIST.classes))\n",
    "        final_params = jax.device_get(\n",
    "            jax.tree.map(lambda x: x[0], MLP_replicated_params)\n",
    "        )\n",
    "        tl, ta = loss_fn(final_params, images, labels)\n",
    "        test_loss += tl\n",
    "        test_acc += ta\n",
    "\n",
    "    print(\n",
    "        f\"Epoch: {epoch}, Test Loss: {test_loss / len(testloader) : 3f}, Test Acc.: {100*test_acc / len(testloader): .3f}\"\n",
    "    )"
   ]
  },
  {
   "cell_type": "code",
   "execution_count": null,
   "metadata": {},
   "outputs": [],
   "source": []
  }
 ],
 "metadata": {
  "kernelspec": {
   "display_name": "base",
   "language": "python",
   "name": "python3"
  },
  "language_info": {
   "codemirror_mode": {
    "name": "ipython",
    "version": 3
   },
   "file_extension": ".py",
   "mimetype": "text/x-python",
   "name": "python",
   "nbconvert_exporter": "python",
   "pygments_lexer": "ipython3",
   "version": "3.12.4"
  }
 },
 "nbformat": 4,
 "nbformat_minor": 2
}
