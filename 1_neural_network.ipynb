{
 "cells": [
  {
   "cell_type": "code",
   "execution_count": 1,
   "metadata": {},
   "outputs": [],
   "source": [
    "import jax\n",
    "import jax.numpy as jnp # type: ignore\n",
    "import numpy as np # type: ignore\n",
    "\n",
    "from jax import grad, jit, vmap, pmap # type: ignore\n",
    "import matplotlib.pyplot as plt\n"
   ]
  },
  {
   "cell_type": "code",
   "execution_count": 2,
   "metadata": {},
   "outputs": [
    {
     "name": "stdout",
     "output_type": "stream",
     "text": [
      "[9, 5, None] contains 2 leaves ... [9, 5]\n",
      "[3, (2, 8)] contains 3 leaves ... [3, 2, 8]\n",
      "{'p': 78} contains 1 leaves ... [78]\n",
      "{'q': {'r': 5, 's': {'t': 100, 'u': 200}}} contains 3 leaves ... [5, 100, 200]\n",
      "4 contains 1 leaves ... [4]\n"
     ]
    }
   ],
   "source": [
    "simple_pytree = [\n",
    "    [9, 5, None],\n",
    "    [3, (2, 8)],\n",
    "    {\"p\": 78},\n",
    "    {\"q\": {\"r\": 5, \"s\": {\"t\": 100, \"u\": 200}}},\n",
    "    4\n",
    "]\n",
    "\n",
    "for elem in simple_pytree:\n",
    "    leaves = jax.tree_util.tree_leaves(elem)\n",
    "    print(f\"{elem} contains {len(leaves)} leaves ... {leaves}\")"
   ]
  },
  {
   "cell_type": "code",
   "execution_count": 3,
   "metadata": {},
   "outputs": [
    {
     "name": "stdout",
     "output_type": "stream",
     "text": [
      "[[81, 25, None], [9, (4, 64)], {'p': 6084}, {'q': {'r': 25, 's': {'t': 10000, 'u': 40000}}}, 16]\n"
     ]
    }
   ],
   "source": [
    "print(jax.tree_util.tree_map(lambda x: x**2, simple_pytree))"
   ]
  },
  {
   "cell_type": "code",
   "execution_count": 4,
   "metadata": {},
   "outputs": [],
   "source": [
    "# For the above, we can use multiple different pytrees but they must have the same structure in order to be operated together."
   ]
  },
  {
   "cell_type": "code",
   "execution_count": 5,
   "metadata": {},
   "outputs": [
    {
     "data": {
      "text/plain": [
       "[{'bias': (128,), 'weight': (1, 128)},\n",
       " {'bias': (128,), 'weight': (128, 128)},\n",
       " {'bias': (1,), 'weight': (128, 1)}]"
      ]
     },
     "execution_count": 5,
     "metadata": {},
     "output_type": "execute_result"
    }
   ],
   "source": [
    "def init_mlp_params(layer_widths):\n",
    "    params = []\n",
    "\n",
    "    for n_in, n_out in zip(layer_widths[:-1], layer_widths[1:]):\n",
    "        params.append(\n",
    "            dict(weight=np.random.normal(size=(n_in, n_out)) * np.sqrt(2 / n_in),\n",
    "                bias=np.ones(shape=(n_out,))\n",
    "            )\n",
    "        )\n",
    "    \n",
    "    return params\n",
    "\n",
    "params = init_mlp_params([1, 128, 128, 1])\n",
    "jax.tree_util.tree_map(lambda x: x.shape, params)"
   ]
  },
  {
   "cell_type": "code",
   "execution_count": 6,
   "metadata": {},
   "outputs": [],
   "source": [
    "def forward(params, x):\n",
    "    *hidden, last = params\n",
    "\n",
    "    for layer in hidden:\n",
    "        x  = jax.nn.relu(jnp.dot(x, layer[\"weight\"]) + layer[\"bias\"])\n",
    "\n",
    "    return jnp.dot(x, last[\"weight\"]) + last[\"bias\"]\n",
    "\n",
    "def loss_fn(params, x, y):\n",
    "    return jnp.mean((forward(params, x) - y) ** 2)\n",
    "\n",
    "lr = 0.0001\n",
    "\n",
    "@jit\n",
    "def update(params, x, y):\n",
    "\n",
    "    grads = jax.grad(loss_fn)(params, x, y)\n",
    "\n",
    "    return jax.tree.map(lambda p, g: p - lr * g, params, grads)"
   ]
  },
  {
   "cell_type": "code",
   "execution_count": 7,
   "metadata": {},
   "outputs": [
    {
     "name": "stderr",
     "output_type": "stream",
     "text": [
      "An NVIDIA GPU may be present on this machine, but a CUDA-enabled jaxlib is not installed. Falling back to cpu.\n"
     ]
    },
    {
     "data": {
      "text/plain": [
       "<matplotlib.legend.Legend at 0x7f723f5744d0>"
      ]
     },
     "execution_count": 7,
     "metadata": {},
     "output_type": "execute_result"
    },
    {
     "data": {
      "image/png": "[encoded data removed]",
      "text/plain": [
       "<Figure size 640x480 with 1 Axes>"
      ]
     },
     "metadata": {},
     "output_type": "display_data"
    }
   ],
   "source": [
    "xs = np.random.normal(size=(128, 1))\n",
    "ys = xs ** 2\n",
    "\n",
    "num_epochs = 5000\n",
    "for _ in range(num_epochs):\n",
    "    params = update(params, xs, ys)\n",
    "\n",
    "plt.scatter(xs, ys, label=\"Data\")\n",
    "plt.scatter(xs, forward(params, xs), label=\"Model predictions\")\n",
    "plt.legend()"
   ]
  },
  {
   "cell_type": "code",
   "execution_count": 8,
   "metadata": {},
   "outputs": [
    {
     "name": "stdout",
     "output_type": "stream",
     "text": [
      "[<__main__.ExampleObject object at 0x7f723f575640>, <__main__.ExampleObject object at 0x7f723f6e9a30>] contains 2 leaves ... [<__main__.ExampleObject object at 0x7f723f575640>, <__main__.ExampleObject object at 0x7f723f6e9a30>]\n"
     ]
    }
   ],
   "source": [
    "class ExampleObject:\n",
    "    def __init__(self, name, x, y, z):\n",
    "        self.name = name\n",
    "        self.x = x\n",
    "        self.y = y\n",
    "        self.z = z\n",
    "\n",
    "custom_pytree = [ExampleObject(\"Jamie\", 2, 1, 3), ExampleObject(\"McGowan\", 1, 9, 6)]\n",
    "\n",
    "leaves = jax.tree_util.tree_leaves(custom_pytree)\n",
    "print(f\"{custom_pytree} contains {len(leaves)} leaves ... {leaves}\")"
   ]
  },
  {
   "cell_type": "code",
   "execution_count": 9,
   "metadata": {},
   "outputs": [],
   "source": [
    "def flatten_ExampleObject(obj):\n",
    "    flat_content = [obj.x, obj.y, obj.z]\n",
    "\n",
    "    aux_data = obj.name\n",
    "\n",
    "    return flat_content, aux_data\n",
    "\n",
    "\n",
    "def unflatten_ExampleObject(aux_data, flat_content):\n",
    "    return ExampleObject(aux_data, *flat_content)\n",
    "\n",
    "\n",
    "jax.tree_util.register_pytree_node(ExampleObject, flatten_ExampleObject, unflatten_ExampleObject)"
   ]
  },
  {
   "cell_type": "code",
   "execution_count": 10,
   "metadata": {},
   "outputs": [
    {
     "name": "stdout",
     "output_type": "stream",
     "text": [
      "[<__main__.ExampleObject object at 0x7f723f575640>, <__main__.ExampleObject object at 0x7f723f6e9a30>] contains 6 leaves ... [2, 1, 3, 1, 9, 6]\n"
     ]
    }
   ],
   "source": [
    "leaves = jax.tree_util.tree_leaves(custom_pytree)\n",
    "print(f\"{custom_pytree} contains {len(leaves)} leaves ... {leaves}\")"
   ]
  },
  {
   "cell_type": "code",
   "execution_count": 11,
   "metadata": {},
   "outputs": [
    {
     "data": {
      "text/plain": [
       "[3, 2, 4, 2, 10, 7]"
      ]
     },
     "execution_count": 11,
     "metadata": {},
     "output_type": "execute_result"
    }
   ],
   "source": [
    "result = jax.tree_util.tree_map(lambda x: x + 1, custom_pytree)\n",
    "jax.tree_util.tree_leaves(result)"
   ]
  },
  {
   "cell_type": "code",
   "execution_count": 12,
   "metadata": {},
   "outputs": [
    {
     "name": "stdout",
     "output_type": "stream",
     "text": [
      "[Array([[0., 0., 0.],\n",
      "       [0., 0., 0.]], dtype=float32), Array([[0., 0., 0., 0.],\n",
      "       [0., 0., 0., 0.],\n",
      "       [0., 0., 0., 0.]], dtype=float32)]\n",
      "[(2, 3), (3, 4)]\n"
     ]
    }
   ],
   "source": [
    "zeros_tree = [jnp.zeros((2, 3)), jnp.zeros((3, 4))]\n",
    "print(zeros_tree)\n",
    "\n",
    "shapes = jax.tree.map(lambda x: x.shape, zeros_tree)\n",
    "print(shapes)"
   ]
  },
  {
   "cell_type": "code",
   "execution_count": 13,
   "metadata": {},
   "outputs": [
    {
     "name": "stdout",
     "output_type": "stream",
     "text": [
      "[(Array([1., 1.], dtype=float32), Array([1., 1., 1.], dtype=float32)), (Array([1., 1., 1.], dtype=float32), Array([1., 1., 1., 1.], dtype=float32))]\n"
     ]
    }
   ],
   "source": [
    "ones_tree = jax.tree.map(jnp.ones, shapes)\n",
    "\n",
    "print(ones_tree)"
   ]
  },
  {
   "cell_type": "code",
   "execution_count": 14,
   "metadata": {},
   "outputs": [
    {
     "data": {
      "text/plain": [
       "[2, 3, 3, 4]"
      ]
     },
     "execution_count": 14,
     "metadata": {},
     "output_type": "execute_result"
    }
   ],
   "source": [
    "jax.tree_util.tree_leaves(shapes)"
   ]
  },
  {
   "cell_type": "code",
   "execution_count": 15,
   "metadata": {},
   "outputs": [
    {
     "name": "stdout",
     "output_type": "stream",
     "text": [
      "[Array([[1., 1., 1.],\n",
      "       [1., 1., 1.]], dtype=float32), Array([[1., 1., 1., 1.],\n",
      "       [1., 1., 1., 1.],\n",
      "       [1., 1., 1., 1.]], dtype=float32)]\n"
     ]
    }
   ],
   "source": [
    "new_shapes = jax.tree.map(lambda x: jnp.array(x.shape), zeros_tree)\n",
    "new_ones_tree = jax.tree.map(jnp.ones, new_shapes)\n",
    "\n",
    "print(new_ones_tree)"
   ]
  },
  {
   "cell_type": "code",
   "execution_count": 16,
   "metadata": {},
   "outputs": [
    {
     "data": {
      "text/plain": [
       "[CpuDevice(id=0)]"
      ]
     },
     "execution_count": 16,
     "metadata": {},
     "output_type": "execute_result"
    }
   ],
   "source": [
    "jax.devices()"
   ]
  },
  {
   "cell_type": "code",
   "execution_count": null,
   "metadata": {},
   "outputs": [],
   "source": []
  }
 ],
 "metadata": {
  "kernelspec": {
   "display_name": "base",
   "language": "python",
   "name": "python3"
  },
  "language_info": {
   "codemirror_mode": {
    "name": "ipython",
    "version": 3
   },
   "file_extension": ".py",
   "mimetype": "text/x-python",
   "name": "python",
   "nbconvert_exporter": "python",
   "pygments_lexer": "ipython3",
   "version": "3.12.2"
  }
 },
 "nbformat": 4,
 "nbformat_minor": 2
}
